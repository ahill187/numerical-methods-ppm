{
 "cells": [
  {
   "cell_type": "code",
   "execution_count": 31,
   "id": "1a5e2594",
   "metadata": {},
   "outputs": [
    {
     "name": "stdout",
     "output_type": "stream",
     "text": [
      "The autoreload extension is already loaded. To reload it, use:\n",
      "  %reload_ext autoreload\n"
     ]
    }
   ],
   "source": [
    "%load_ext autoreload\n",
    "%autoreload 2\n",
    "%matplotlib inline\n",
    "import numpy as np\n",
    "import matplotlib.pyplot as plt\n",
    "import math"
   ]
  },
  {
   "cell_type": "markdown",
   "id": "1fe50bb8-357a-47a5-a370-8a3867001e7d",
   "metadata": {},
   "source": [
    "## 4. Hydrogen Atom: Linear Regression"
   ]
  },
  {
   "cell_type": "markdown",
   "id": "f25e32c6-876c-4df5-bc7c-939ea17e4bad",
   "metadata": {},
   "source": [
    "#### Gradient Descent\n",
    "\n",
    "We want to use gradient descent to compute the optimized coefficients for our guess of the wavefunction:\n",
    "\n",
    "$$\n",
    "u(r) = r \\theta_0 e^{-(r-\\theta_1)/\\theta_2}\n",
    "$$\n",
    "\n",
    "Here we have a cost function:\n",
    "\n",
    "$$\n",
    "J(\\theta_0, \\theta_1, \\theta_2)\n",
    "$$\n",
    "\n",
    "and we for each iteration of gradient descent we update $\\theta_l$:\n",
    "\n",
    "$$\n",
    "\\begin{align}\n",
    "\\theta_0^{(k+1)} &= \\theta_0^{(k)} - \\alpha \\dfrac{\\partial J}{\\partial \\theta_0} \\\\\n",
    "\\theta_1^{(k+1)} &= \\theta_1^{(k)} - \\alpha \\dfrac{\\partial J}{\\partial \\theta_1} \\\\\n",
    "\\theta_2^{(k+1)} &= \\theta_2^{(k)} - \\alpha \\dfrac{\\partial J}{\\partial \\theta_2} \\\\\n",
    "\\end{align}\n",
    "$$"
   ]
  },
  {
   "cell_type": "markdown",
   "id": "f264b6f7",
   "metadata": {},
   "source": [
    "We use gradient descend method to minimise the error between the polynomial approximation of the radial wavefunction and the wavefunction itself.\n",
    "\n",
    "We are trying to minimise the cost function defined as \n",
    "\n",
    "$$ J(\\theta) = \\dfrac{1}{2m}  \\sum_{i=0}^{m} [h(\\theta,r_i)-f(r_i) ]^2 $$\n",
    "\n",
    "where, $h_i(\\theta,r_i)$ is the polynomial approximation of a function $f(r)$ which is the actual function of $r$.\n",
    "\n",
    "$$ h_i(\\theta) = {\\theta}_{0}+{\\theta}_{1}r_i^1+{\\theta}_{2}r_i^2+{\\theta}_{3}r_i^3 ...+{\\theta}_{N}r_i^N $$\n",
    "    \n",
    "The update to coefficients ${\\theta}_{k}$ is given as:\n",
    "\n",
    "$$ {\\theta}_{k}^{(j+1)} = {\\theta}_{k}^{(j)} - \\alpha \\dfrac{\\partial J}{\\partial {\\theta}_{k}^{(j)}}$$\n",
    "\n",
    "$$ \\frac{\\partial J}{\\partial {\\theta}_{k}} = \\dfrac{1}{m}  \\sum_{i=0}^{m} [h_i(\\theta_k, r_i)-f(r_i)] \\dfrac{\\partial [h(\\theta_k, r_i)-f(r_i)]}{\\partial {\\theta_k}} $$\n",
    "$$ = \\dfrac{1}{m}  \\sum_{i=0}^{m} [h_i(\\theta_k, r_i)-f(r_i)]r^k $$\n",
    "$$ 0 \\leq k \\leq N $$\n",
    "\n",
    "where m is the number of data points."
   ]
  },
  {
   "cell_type": "code",
   "execution_count": 27,
   "id": "2a14c926-9a8a-4d5e-83a9-58131a8e4998",
   "metadata": {},
   "outputs": [],
   "source": [
    "import linear_regression_hydrogen as lrh\n",
    "import hydrogen_gradient_descent as hygrad"
   ]
  },
  {
   "cell_type": "code",
   "execution_count": 42,
   "id": "73ae97d2",
   "metadata": {},
   "outputs": [],
   "source": [
    "params = {'legend.fontsize': 18,\n",
    "          'axes.labelsize': 18,\n",
    "          'axes.titlesize': 18,\n",
    "          'figure.titlesize': 20,\n",
    "          'xtick.labelsize' :10,\n",
    "          'ytick.labelsize': 10,\n",
    "          'mathtext.fontset': 'custom',\n",
    "          'mathtext.rm': 'Bitstream Vera Sans',\n",
    "          'mathtext.it':'Bitstream Vera Sans:italic',\n",
    "          'grid.color': 'k',\n",
    "          'grid.linestyle': ':',\n",
    "          'grid.linewidth': 0.5\n",
    "         }\n",
    "plt.rcParams.update(params)"
   ]
  },
  {
   "cell_type": "code",
   "execution_count": 43,
   "id": "942a8d94",
   "metadata": {},
   "outputs": [
    {
     "name": "stdout",
     "output_type": "stream",
     "text": [
      "Cost = 0.9300041584447396\n"
     ]
    },
    {
     "data": {
      "image/png": "[encoded data removed]",
      "text/plain": [
       "<Figure size 1296x720 with 1 Axes>"
      ]
     },
     "metadata": {
      "needs_background": "light"
     },
     "output_type": "display_data"
    }
   ],
   "source": [
    "polynomial_degree = 100\n",
    "r_data = np.arange(0.01, 25, 0.05)\n",
    "num_data_points = len(r_data)\n",
    "n = 1\n",
    "l = 0\n",
    "hydrogen = hygrad.Hydrogen(azimuthal_number=l, principal_number=n)\n",
    "R_matrix = lrh.create_R_matrix(num_data_points, polynomial_degree, r_data)\n",
    "T_matrix = lrh.create_T_matrix(num_data_points, polynomial_degree, r_data)\n",
    "coefficients = np.zeros(polynomial_degree)\n",
    "for i in range(1, polynomial_degree):\n",
    "    coefficients[i] = (-1)**(i-1)*(1/math.factorial(i-1))\n",
    "u_pred = lrh.get_R_vector(r_data, coefficients)\n",
    "alpha = 10**-280\n",
    "max_iterations = 500\n",
    "max_cost = 10\n",
    "coefficients, cost = hygrad.gradient_descent(coefficients, alpha, max_cost, max_iterations, r_data, hydrogen, lrh.get_R_vector,\n",
    "                                             lrh.get_T_vector, lrh.cost_function_deriv, u_pred, R_matrix, T_matrix)\n",
    "print(f\"Cost = {cost}\")\n",
    "\n",
    "fig = plt.figure(figsize=(18,10))\n",
    "plt.plot(r_data, u_pred/r_data, label=f\"n={n}\")\n",
    "plt.xlabel(\"r\")\n",
    "plt.ylabel(\"R(r)\")\n",
    "plt.title(f\"Radial Wavefunction of Hydrogen for $l$={l} (atomic units)\")\n",
    "plt.legend()\n",
    "plt.show()"
   ]
  },
  {
   "cell_type": "code",
   "execution_count": null,
   "id": "f0814dd2-90e6-4095-af8d-ff85fed8e663",
   "metadata": {},
   "outputs": [],
   "source": []
  }
 ],
 "metadata": {
  "kernelspec": {
   "display_name": "Python 3 (ipykernel)",
   "language": "python",
   "name": "python3"
  },
  "language_info": {
   "codemirror_mode": {
    "name": "ipython",
    "version": 3
   },
   "file_extension": ".py",
   "mimetype": "text/x-python",
   "name": "python",
   "nbconvert_exporter": "python",
   "pygments_lexer": "ipython3",
   "version": "3.7.9"
  }
 },
 "nbformat": 4,
 "nbformat_minor": 5
}
