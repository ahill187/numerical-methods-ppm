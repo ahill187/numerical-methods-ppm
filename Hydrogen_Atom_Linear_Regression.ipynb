{
 "cells": [
  {
   "cell_type": "code",
   "execution_count": 35,
   "id": "1a5e2594",
   "metadata": {},
   "outputs": [
    {
     "name": "stdout",
     "output_type": "stream",
     "text": [
      "The autoreload extension is already loaded. To reload it, use:\n",
      "  %reload_ext autoreload\n"
     ]
    }
   ],
   "source": [
    "%load_ext autoreload\n",
    "%autoreload 2\n",
    "import numpy as np\n",
    "import matplotlib.pyplot as plt\n",
    "import math"
   ]
  },
  {
   "cell_type": "code",
   "execution_count": 36,
   "id": "95f5eb3d",
   "metadata": {},
   "outputs": [],
   "source": [
    "import linear_regression_hydrogen as lrh"
   ]
  },
  {
   "cell_type": "markdown",
   "id": "f264b6f7",
   "metadata": {},
   "source": [
    "We use gradient descend method to minimise the error between the polynomial approximation of the radial wavefunction and the wavefunction itself.\n",
    "\n",
    "We are trying to minimise the cost function defined as \n",
    "\n",
    "$$ J(\\theta) = \\dfrac{1}{2m}  \\sum_{i=0}^{m} [h(\\theta,r_i)-f(r_i) ]^2 $$\n",
    "\n",
    "where, $h_i(\\theta,r_i)$ is the polynomial approximation of a function $f(r)$ which is the actual function of $r$.\n",
    "\n",
    "$$ h_i(\\theta) = {\\theta}_{0}+{\\theta}_{1}r_i^1+{\\theta}_{2}r_i^2+{\\theta}_{3}r_i^3 ...+{\\theta}_{N}r_i^N $$\n",
    "    \n",
    "The update to coefficients ${\\theta}_{k}$ is given as:\n",
    "\n",
    "$$ {\\theta}_{k}^{(j+1)} = {\\theta}_{k}^{(j)} - \\alpha \\dfrac{\\partial J}{\\partial {\\theta}_{k}^{(j)}}$$\n",
    "\n",
    "$$ \\frac{\\partial J}{\\partial {\\theta}_{k}} = \\dfrac{1}{m}  \\sum_{i=0}^{m} [h_i(\\theta_k, r_i)-f(r_i)] \\dfrac{\\partial [h(\\theta_k, r_i)-f(r_i)]}{\\partial {\\theta_k}} $$\n",
    "$$ = \\dfrac{1}{m}  \\sum_{i=0}^{m} [h_i(\\theta_k, r_i)-f(r_i)]r^k $$\n",
    "$$ 0 \\leq k \\leq N $$\n",
    "\n",
    "where m is the number of data points."
   ]
  },
  {
   "cell_type": "code",
   "execution_count": 37,
   "id": "73ae97d2",
   "metadata": {},
   "outputs": [],
   "source": [
    "parameters = {'axes.labelsize': 15,\n",
    "          'axes.titlesize': 15,\n",
    "           'xtick.labelsize':15,\n",
    "           'ytick.labelsize':15  }\n",
    "plt.rcParams.update(parameters)"
   ]
  },
  {
   "cell_type": "code",
   "execution_count": 38,
   "id": "942a8d94",
   "metadata": {},
   "outputs": [
    {
     "name": "stdout",
     "output_type": "stream",
     "text": [
      "0.9299945939493187\n"
     ]
    },
    {
     "data": {
      "image/png": "[encoded data removed]",
      "text/plain": [
       "<Figure size 432x288 with 1 Axes>"
      ]
     },
     "metadata": {
      "needs_background": "light"
     },
     "output_type": "display_data"
    }
   ],
   "source": [
    "polynomial_degree = 100\n",
    "r_data = np.arange(0.01, 25, 0.05)\n",
    "num_data_points = len(r_data)\n",
    "n = 1\n",
    "l = 0\n",
    "hydrogen = lrh.Hydrogen(azimuthal_number=l, principal_number=n)\n",
    "R_matrix = lrh.create_R_matrix(num_data_points, polynomial_degree, r_data)\n",
    "T_matrix = lrh.create_T_matrix(num_data_points, polynomial_degree, r_data)\n",
    "coefficients = np.zeros(polynomial_degree)\n",
    "for i in range(1, polynomial_degree):\n",
    "    coefficients[i] = (-1)**(i-1)*(1/math.factorial(i-1))\n",
    "u_pred = np.matmul(R_matrix, coefficients)\n",
    "alpha = 10**-280\n",
    "max_iterations = 500\n",
    "max_cost = 10\n",
    "coefficients, cost = lrh.gradient_descent(coefficients, alpha, max_cost, max_iterations, lrh.cost_function,\n",
    "                                    lrh.cost_function_deriv, u_pred, r_data, R_matrix, T_matrix,\n",
    "                                    hydrogen)\n",
    "print(cost)\n",
    "plt.plot(r_data, u_pred/r_data, label=f\"n={n}\")\n",
    "plt.xlabel(\"r\")\n",
    "plt.ylabel(\"R(r)\")\n",
    "plt.title(f\"Radial Wavefunction of Hydrogen for l={l} - in atomic units\")\n",
    "plt.legend(prop={\"size\":15})\n",
    "plt.show()"
   ]
  },
  {
   "cell_type": "code",
   "execution_count": null,
   "id": "0f1dfe2c",
   "metadata": {},
   "outputs": [],
   "source": []
  },
  {
   "cell_type": "code",
   "execution_count": null,
   "id": "6efeb0c0",
   "metadata": {},
   "outputs": [],
   "source": []
  }
 ],
 "metadata": {
  "kernelspec": {
   "display_name": "Python 3 (ipykernel)",
   "language": "python",
   "name": "python3"
  },
  "language_info": {
   "codemirror_mode": {
    "name": "ipython",
    "version": 3
   },
   "file_extension": ".py",
   "mimetype": "text/x-python",
   "name": "python",
   "nbconvert_exporter": "python",
   "pygments_lexer": "ipython3",
   "version": "3.7.9"
  }
 },
 "nbformat": 4,
 "nbformat_minor": 5
}
