{
 "cells": [
  {
   "cell_type": "markdown",
   "id": "e655b105-b512-495a-b01f-32a78209f8e0",
   "metadata": {},
   "source": [
    "## 5. Hydrogen Atom: Variational Method"
   ]
  },
  {
   "cell_type": "markdown",
   "id": "3ae76b64-7bd3-4b56-bb38-6b04fad1ee09",
   "metadata": {},
   "source": [
    "The variational method requires taking a system and making an educated guess for that system. Let's think about the hydrogen atom. It has an electron and a proton. Experimentally, we know that the atom has some maximum radius, which we will call $a_0$. The electron then must have its wavefunction go to zero outside of the radius of the atom. Otherwise, we might find an electron very far away from the atom. Of course, strictly speaking experimentally, we would like to not completely rule out this possibility, so let's say it's very small or close to zero outside of $a_0$. What about as the electron approaches the proton, i.e. $r \\rightarrow 0$? The probability has to add up to 1, so it cannot go to infinity. From Rutherford's gold foil experiment, we know that the atom is comprised of a small, dense nucleus, with electrons some distance from the nucleus. So, the electrons are unlikely to be at $r=0$. Thus, we assume that the probability goes to zero as $r \\rightarrow 0$."
   ]
  },
  {
   "cell_type": "markdown",
   "id": "d694fc38-35ad-44d7-b68b-898aadc46260",
   "metadata": {},
   "source": [
    "Since we are talking about the probability here, we are looking for a function $\\psi(r, \\theta, \\phi)$ such that:\n",
    "\n",
    "$$\n",
    "f(r, \\theta, \\phi) = \\left|\\psi(r, \\theta, \\phi)\\right|^2 r^2\n",
    "$$\n",
    "\n",
    "has the aforementioned properties."
   ]
  },
  {
   "cell_type": "markdown",
   "id": "c335d151-7896-4c89-be85-9fac48ec63c6",
   "metadata": {},
   "source": [
    "One guess is:\n",
    "\n",
    "$$\n",
    "u(r) = r \\theta_0 e^{-(r-\\theta_1)/\\theta_2}\n",
    "$$"
   ]
  },
  {
   "cell_type": "code",
   "execution_count": null,
   "id": "879edd09-61cd-44d2-af59-07a346a1f078",
   "metadata": {},
   "outputs": [],
   "source": []
  }
 ],
 "metadata": {
  "kernelspec": {
   "display_name": "Python 3 (ipykernel)",
   "language": "python",
   "name": "python3"
  },
  "language_info": {
   "codemirror_mode": {
    "name": "ipython",
    "version": 3
   },
   "file_extension": ".py",
   "mimetype": "text/x-python",
   "name": "python",
   "nbconvert_exporter": "python",
   "pygments_lexer": "ipython3",
   "version": "3.7.9"
  }
 },
 "nbformat": 4,
 "nbformat_minor": 5
}
