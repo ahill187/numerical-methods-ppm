{
 "cells": [
  {
   "cell_type": "code",
   "execution_count": 71,
   "id": "450546d6",
   "metadata": {},
   "outputs": [],
   "source": [
    "import numpy as np\n",
    "import matplotlib.pyplot as plt\n",
    "import cmath\n",
    "from scipy import *\n",
    "from scipy import integrate"
   ]
  },
  {
   "cell_type": "code",
   "execution_count": 72,
   "id": "b6a0d36d",
   "metadata": {},
   "outputs": [],
   "source": [
    "def Numerov(f, psi0, dh):\n",
    "\n",
    "    psi = np.zeros(len(f))\n",
    "    psi[0] = (1/(np.pi)**0.5)*np.exp(-R[-1])\n",
    "    psi[1] = (1/(np.pi)**0.5)*np.exp(-(R[-1]-dh))\n",
    "    \n",
    "    h2 = dh**2\n",
    "    h12 = h2/12.\n",
    "\n",
    "    w0=psi0*(1-h12*f[0])\n",
    "    w1=psi[1]*(1-h12*f[1])\n",
    "    xi = psi[1]\n",
    "    fi = f[1]\n",
    "    for i in range(2,len(f)):\n",
    "        w2 = 2*w1-w0+h2*fi*xi  \n",
    "        fi = f[i] \n",
    "        xi = w2/(1-h12*fi)\n",
    "        psi[i]=xi\n",
    "        w0 = w1\n",
    "        w1 = w2\n",
    "    return psi"
   ]
  },
  {
   "cell_type": "code",
   "execution_count": 73,
   "id": "ad24416d",
   "metadata": {},
   "outputs": [],
   "source": [
    "def fhyd(En, l, R):\n",
    "    return l*(l+1.)/R**2-2./R-En"
   ]
  },
  {
   "cell_type": "code",
   "execution_count": 75,
   "id": "5707525e",
   "metadata": {},
   "outputs": [
    {
     "data": {
      "image/png": "[encoded data removed]",
      "text/plain": [
       "<Figure size 432x288 with 1 Axes>"
      ]
     },
     "metadata": {
      "needs_background": "light"
     },
     "output_type": "display_data"
    }
   ],
   "source": [
    "R = np.linspace(1e-7,40,10**6)\n",
    "l=0\n",
    "n=1\n",
    "En=-1.0/n**2\n",
    "f = fhyd(En,l,R[::-1])\n",
    "psi = Numerov(f,0,R[1]-R[0])[::-1]\n",
    "#norm = integrate.simps(psi**2,x=R)\n",
    "#psi *= 1/sqrt(abs(norm))\n",
    "\n",
    "from pylab import *\n",
    "%matplotlib inline\n",
    "\n",
    "plt.plot(R,psi)\n",
    "plt.show()"
   ]
  },
  {
   "cell_type": "code",
   "execution_count": 40,
   "id": "df534902",
   "metadata": {},
   "outputs": [
    {
     "data": {
      "text/plain": [
       "40.0"
      ]
     },
     "execution_count": 40,
     "metadata": {},
     "output_type": "execute_result"
    }
   ],
   "source": []
  },
  {
   "cell_type": "code",
   "execution_count": null,
   "id": "001722c7",
   "metadata": {},
   "outputs": [],
   "source": []
  },
  {
   "cell_type": "code",
   "execution_count": null,
   "id": "6043ff08",
   "metadata": {},
   "outputs": [],
   "source": []
  }
 ],
 "metadata": {
  "kernelspec": {
   "display_name": "Python 3",
   "language": "python",
   "name": "python3"
  },
  "language_info": {
   "codemirror_mode": {
    "name": "ipython",
    "version": 3
   },
   "file_extension": ".py",
   "mimetype": "text/x-python",
   "name": "python",
   "nbconvert_exporter": "python",
   "pygments_lexer": "ipython3",
   "version": "3.8.8"
  }
 },
 "nbformat": 4,
 "nbformat_minor": 5
}
