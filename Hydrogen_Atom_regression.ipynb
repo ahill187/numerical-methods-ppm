{
 "cells": [
  {
   "cell_type": "code",
   "execution_count": 235,
   "id": "1a5e2594",
   "metadata": {},
   "outputs": [],
   "source": [
    "import numpy as np\n",
    "import matplotlib.pyplot as plt\n",
    "import math"
   ]
  },
  {
   "cell_type": "code",
   "execution_count": 237,
   "id": "373efedc",
   "metadata": {},
   "outputs": [],
   "source": [
    "class Hydrogen:\n",
    "    def __init__(self, units=\"atomic\", azimuthal_number=0, energy=-1.0):\n",
    "        self.units = units\n",
    "        self.azimuthal_number = azimuthal_number  # quantum number l\n",
    "        self.energy = energy  # ground state energy in atomic units\n",
    "\n",
    "    def compute_radial_equation_error(self, r_data, R_matrix, T_matrix, coefficients):\n",
    "        num_data_points = np.shape(R_matrix)[0]\n",
    "        energy_vector = np.full(num_data_points, self.energy)\n",
    "        r_inverse_vector = np.array([1/r for r in r_data])\n",
    "        r_inverse_squared_vector = np.array([1/(r**2) for r in r_data])\n",
    "        error = np.matmul(T_matrix, coefficients) - \\\n",
    "                (-2*energy_vector + \\\n",
    "                 self.azimuthal_number*(self.azimuthal_number + 1)*r_inverse_squared_vector - \\\n",
    "                 2*r_inverse_vector)*np.matmul(R_matrix, coefficients)\n",
    "        return error\n"
   ]
  },
  {
   "cell_type": "code",
   "execution_count": 238,
   "id": "6bfc0c2b",
   "metadata": {},
   "outputs": [],
   "source": [
    "def cost_function(u_pred, r_data, R_matrix, T_matrix, coefficients, hydrogen):\n",
    "    \"\"\"Compute cost function.\n",
    "\n",
    "    The radial function for Hydrogen is a second order ODE, which can be set to zero by bringing\n",
    "    all the terms to one side. Our prediction for u(r) for each iteration can be substituted into\n",
    "    this equation, and should be close to zero. This is how we define our error.\n",
    "\n",
    "    Args:\n",
    "        u_pred: (np.array)\n",
    "        r_data: (np.array) a (1 x n) vector containing the input radial data\n",
    "        R_matrix: (np.array) an (n x m) matrix, see ``create_R_matrix``\n",
    "        T_matrix: (np.array) an (n x m) matrix, 2nd derivative, see ``create_T_matrix``\n",
    "        coefficients: (np.array) a (1 x m) vector containing the predicted coefficients\n",
    "        hydrogen: (Hydrogen) a Hydrogen object\n",
    "\n",
    "    \"\"\"\n",
    "    error = hydrogen.compute_radial_equation_error(r_data, R_matrix, T_matrix, coefficients)\n",
    "    squared_difference = np.dot(error, error)\n",
    "    return squared_difference/len(r_data)\n",
    "\n",
    "\n",
    "def create_R_matrix(num_data_points, polynomial_degree, r_data):\n",
    "    \"\"\"Create a matrix of polynomials.\n",
    "\n",
    "        [\n",
    "            1, r_1, r_1^2, ... r_1^m\n",
    "\n",
    "            ...\n",
    "\n",
    "            1, r_n, r_n^2, ... r_n^m\n",
    "\n",
    "        ]\n",
    "\n",
    "    Args:\n",
    "        num_data_points: (int) number of data points to be used in the linear regression (n)\n",
    "        polynomial_degree: (int) maximum degree of the polynomial (m)\n",
    "        r_data: (np.array) a (1 x n) vector containing the input radial data\n",
    "\n",
    "    \"\"\"\n",
    "    R_matrix = np.ones((num_data_points, polynomial_degree))\n",
    "    row = 0\n",
    "    for r in r_data:\n",
    "        for n in range(0, polynomial_degree):\n",
    "            R_matrix[row][n] = r**n\n",
    "        row = row + 1\n",
    "    return R_matrix\n",
    "\n",
    "\n",
    "def create_T_matrix(num_data_points, polynomial_degree, r_data):\n",
    "    \"\"\"Create a matrix of second derivative of polynomials.\n",
    "\n",
    "        [\n",
    "            0, 0, 2, 6*r_1, 12*r_1^2... m*(m-1)*r_1^(m-2)\n",
    "\n",
    "            ...\n",
    "\n",
    "            0, 0, 2, 6*r_n, 12*r_n^2... m*(m-1)*r_n^(m-2)\n",
    "\n",
    "        ]\n",
    "\n",
    "    Args:\n",
    "        num_data_points: (int) number of data points to be used in the linear regression (n)\n",
    "        polynomial_degree: (int) maximum degree of the polynomial (m)\n",
    "        r_data: (np.array) a (1 x n) vector containing the input radial data\n",
    "\n",
    "    \"\"\"\n",
    "    T_matrix = np.zeros((num_data_points, polynomial_degree))\n",
    "    row = 0\n",
    "    for r in r_data:\n",
    "        for n in range(2, polynomial_degree):\n",
    "            T_matrix[row][n] = n*(n-1)*r**(n-2)\n",
    "        row = row + 1\n",
    "    return T_matrix\n",
    "\n",
    "def cost_function_deriv(h, f, R_matrix):\n",
    "    derivative = np.matmul(h-f, R_matrix)\n",
    "    return(derivative)\n",
    "    \n",
    "\n",
    "def gradient_descent(num_data_points, alpha, h, f, R_matrix):\n",
    "    deriv_cost_function = cost_function_deriv(h, f, R_matrix)\n",
    "    return (alpha/num_data_points*deriv_cost_function)\n"
   ]
  },
  {
   "cell_type": "markdown",
   "id": "900fb7bf",
   "metadata": {},
   "source": [
    "We use gradient descend method to minimise the error between the polynomial approximation of the radial wavefunction and the wavefunction itself.\n",
    "\n",
    "We are trying to minimise the cost function defined as \n",
    "\n",
    "$$ J(\\theta) = \\dfrac{1}{2m}  \\sum_{i=0}^{m} [h(\\theta,r_i)-f(r_i) ]^2 $$\n",
    "\n",
    "where, $h_i(\\theta,r_i)$ is the polynomial approximation of a function $f(r)$ which is the actual function of $r$.\n",
    "\n",
    "$$ h_i(\\theta) = {\\theta}_{0}+{\\theta}_{1}r_i^1+{\\theta}_{2}r_i^2+{\\theta}_{3}r_i^3 ...+{\\theta}_{N}r_i^N $$\n",
    "    \n",
    "The update to coefficients ${\\theta}_{k}$ is given as:\n",
    "\n",
    "$$ {\\theta}_{k}^{(j+1)} = {\\theta}_{k}^{(j)} - \\alpha \\dfrac{\\partial J}{\\partial {\\theta}_{k}^{(j)}}$$\n",
    "\n",
    "$$ \\frac{\\partial J}{\\partial {\\theta}_{k}} = \\dfrac{1}{m}  \\sum_{i=0}^{m} [h_i(\\theta_k, r_i)-f(r_i)] \\dfrac{\\partial [h(\\theta_k, r_i)-f(r_i)]}{\\partial {\\theta_k}} $$\n",
    "$$ = \\dfrac{1}{m}  \\sum_{i=0}^{m} [h_i(\\theta_k, r_i)-f(r_i)]r^k $$\n",
    "$$ 0 \\leq k \\leq N $$\n",
    "\n",
    "where m is the number of data points."
   ]
  },
  {
   "cell_type": "code",
   "execution_count": 241,
   "id": "942a8d94",
   "metadata": {},
   "outputs": [
    {
     "name": "stdout",
     "output_type": "stream",
     "text": [
      "inf\n"
     ]
    },
    {
     "data": {
      "image/png": "[encoded data removed]",
      "text/plain": [
       "<Figure size 432x288 with 1 Axes>"
      ]
     },
     "metadata": {
      "needs_background": "light"
     },
     "output_type": "display_data"
    }
   ],
   "source": [
    "polynomial_degree = 100\n",
    "r_data = np.arange(0.1, 20, 0.05)\n",
    "num_data_points = len(r_data)\n",
    "hydrogen = Hydrogen()\n",
    "R_matrix = create_R_matrix(num_data_points, polynomial_degree, r_data)\n",
    "T_matrix = create_T_matrix(num_data_points, polynomial_degree, r_data)\n",
    "coefficients = np.ones(polynomial_degree)\n",
    "for n in range(0, polynomial_degree):\n",
    "    coefficients[n] = (-1)**n*(1/math.factorial(n))*1/np.sqrt(np.pi)\n",
    "alpha = 0.00005\n",
    "max_iterations = 1\n",
    "for n in range(0, max_iterations):\n",
    "    h = hydrogen.compute_radial_equation_error(r_data, R_matrix, T_matrix, coefficients)\n",
    "    f = 0\n",
    "    coefficients = coefficients - gradient_descent(num_data_points, alpha, h, f, R_matrix)\n",
    "    u_pred = np.matmul(R_matrix, coefficients)\n",
    "    cost = cost_function(u_pred, r_data, R_matrix, T_matrix, coefficients, hydrogen)\n",
    "    if cost <= 0.001:\n",
    "        break\n",
    "\n",
    "print(cost)\n",
    "plt.plot(r_data, u_pred)\n",
    "plt.xlabel(\"r\")\n",
    "plt.ylabel(\"R(r)\")\n",
    "plt.show()"
   ]
  },
  {
   "cell_type": "code",
   "execution_count": null,
   "id": "37c5ea0d",
   "metadata": {},
   "outputs": [],
   "source": []
  }
 ],
 "metadata": {
  "kernelspec": {
   "display_name": "Python 3",
   "language": "python",
   "name": "python3"
  },
  "language_info": {
   "codemirror_mode": {
    "name": "ipython",
    "version": 3
   },
   "file_extension": ".py",
   "mimetype": "text/x-python",
   "name": "python",
   "nbconvert_exporter": "python",
   "pygments_lexer": "ipython3",
   "version": "3.8.8"
  }
 },
 "nbformat": 4,
 "nbformat_minor": 5
}
