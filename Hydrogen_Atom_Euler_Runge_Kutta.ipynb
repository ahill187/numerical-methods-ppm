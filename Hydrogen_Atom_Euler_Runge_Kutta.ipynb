{
 "cells": [
  {
   "cell_type": "markdown",
   "id": "45a0d452-14a3-4beb-bbe1-910ad0c71c58",
   "metadata": {},
   "source": [
    "## 2. Hydrogen Atom: Euler's Method and Runge Kutta\n",
    "\n",
    "Recall the hydrogen atom is written as:\n",
    "\n",
    "$$\n",
    "\\begin{align}\n",
    "\\psi(r, \\theta, \\phi) &= R(r)Y_l^m(\\theta, \\phi) \\label{eq1}\\tag{1}\n",
    "\\end{align}\n",
    "$$\n",
    "\n",
    "Then:\n",
    "\n",
    "$$\n",
    "\\begin{align}\n",
    "u(r) &= rR(r) \\\\\n",
    "\\dfrac{-\\hbar^2}{2m_e}\\dfrac{d^2u}{dr^2} + \\left[\\dfrac{\\hbar^2}{2 m_e}\\dfrac{l(l+1)}{r^2}-\\dfrac{q_e^2}{4 \\pi \\epsilon_0}\\dfrac{1}{r} - E \\right]u(r) &= 0 \\\\\n",
    "\\dfrac{-1}{2}\\dfrac{d^2u}{dr^2} + \\left[\\dfrac{1}{2}\\dfrac{l(l+1)}{r^2}-\\dfrac{1}{r} - E \\right]u(r) &= 0\n",
    "\\end{align}\n",
    "$$"
   ]
  },
  {
   "cell_type": "code",
   "execution_count": null,
   "id": "00258773-809d-48e2-b87e-413d266cf997",
   "metadata": {},
   "outputs": [],
   "source": [
    "h_bar = 1.054571817*10**-34 # reduced Planck constant\n",
    "m = 9.1093837015*10**-31 # mass of an electron\n",
    "alpha = -h_bar**2/(2*m)\n",
    "E = -2.1789*10**-18\n",
    "q = -1.60*10**-19\n",
    "epsilon_0 = 8.85*10**-12\n",
    "k = q**2/(4*np.pi*epsilon_0)\n",
    "a = (4*np.pi*epsilon_0*h_bar**2)/(m*q**2)"
   ]
  },
  {
   "cell_type": "code",
   "execution_count": null,
   "id": "c48015e6-b797-4f82-bd9a-8de5aa2e0f14",
   "metadata": {},
   "outputs": [],
   "source": [
    "h_bar = 1 # reduced Planck constant\n",
    "m = 1 # mass of an electron\n",
    "alpha = -h_bar**2/(2*m)\n",
    "E = -1\n",
    "q = -1\n",
    "k = q**2\n",
    "a = 1"
   ]
  },
  {
   "cell_type": "code",
   "execution_count": null,
   "id": "e669620c-7c30-4a8e-a5a2-3f98a6285279",
   "metadata": {},
   "outputs": [],
   "source": [
    "def psi_0(r):\n",
    "    return (1/(np.pi*a**3)**0.5)*np.exp(-r/a)\n",
    "\n",
    "def psi_deriv_0(r):\n",
    "    return (1/(np.pi*a**3)**0.5)*(-1/a)*np.exp(-r/a)"
   ]
  },
  {
   "cell_type": "code",
   "execution_count": null,
   "id": "5b421cf6-5cb0-4318-a879-9b8690d614b0",
   "metadata": {},
   "outputs": [],
   "source": [
    "def beta(r, k, alpha, l, E):\n",
    "    return k/(alpha*r) + l*(l+1)/(r**2) + E/alpha"
   ]
  },
  {
   "cell_type": "code",
   "execution_count": null,
   "id": "63ff1aae-2d6c-473a-8341-eca131905146",
   "metadata": {},
   "outputs": [],
   "source": [
    "def eulers_method(k, r_0, dr, alpha, l, E, u_0, z_0, n_iterations):\n",
    "    u = u_0\n",
    "    z = z_0\n",
    "    r = r_0\n",
    "    u_data = [u]\n",
    "    r_data = [r]\n",
    "    for n in range(0, n_iterations):\n",
    "        A = np.zeros((2, 2))\n",
    "        A[1][0] = beta(r, k, alpha, l, E)\n",
    "        A[0][1] = 1\n",
    "        x = [u, z]\n",
    "        y = np.matmul(A, x)\n",
    "        u = u + y[0]*dr\n",
    "        z = z + y[1]*dr\n",
    "        r = r + dr\n",
    "        u_data.append(u)\n",
    "        r_data.append(r)\n",
    "    return u_data, r_data"
   ]
  },
  {
   "cell_type": "code",
   "execution_count": null,
   "id": "605e0d3c-6898-45c7-b225-f6fe0d01daae",
   "metadata": {},
   "outputs": [],
   "source": [
    "u_data, r_data = eulers_method(k, r_0, dr, alpha, l, E, u_0, z_0, n_iterations)\n",
    "\n",
    "plt.plot(r_data, u_data, label=\"Euler's Method\", color=\"#FFA15A\")\n",
    "plt.plot(r_data, [psi_0(r) for r in r_data], label=\"Analytical Solution\", color=\"#636EFA\")\n",
    "plt.legend(loc=\"upper right\")\n",
    "\n",
    "plt.xlabel(\"r\")\n",
    "plt.ylabel(f\"u(r)\")\n",
    "plt.title(f\"Euler's Method for Hydrogen Atom, l={l}\")\n",
    "plt.show()"
   ]
  },
  {
   "cell_type": "code",
   "execution_count": null,
   "id": "779cd24f-b4ec-437c-9323-5a2a536ba38c",
   "metadata": {},
   "outputs": [],
   "source": [
    "def get_A(r, k, alpha, l, E):\n",
    "    A = np.zeros((2, 2))\n",
    "    A[1][0] = beta(r, k, alpha, l, E)\n",
    "    A[0][1] = 1\n",
    "    return A\n",
    "\n",
    "def kn1(r, dr, u, z, k, alpha, l, E):\n",
    "    A = get_A(r, k, alpha, l, E)\n",
    "    x = [u, z]\n",
    "    return np.matmul(A, x)\n",
    "\n",
    "def kn2(r, dr, u, z, k, alpha, l, E):\n",
    "    A = get_A(r + dr/2, k, alpha, l, E)\n",
    "    slope = kn1(r, dr, u, z, k, alpha, l, E)\n",
    "    u = u + (dr/2)*slope[0]\n",
    "    z = z + (dr/2)*slope[1]\n",
    "    x = [u, z]\n",
    "    return np.matmul(A, x)\n",
    "\n",
    "def kn3(r, dr, u, z, k, alpha, l, E):\n",
    "    A = get_A(r + dr/2, k, alpha, l, E)\n",
    "    slope = kn2(r, dr, u, z, k, alpha, l, E)\n",
    "    u = u + (dr/2)*slope[0]\n",
    "    z = z + (dr/2)*slope[1]\n",
    "    x = [u, z]\n",
    "    return np.matmul(A, x)\n",
    "\n",
    "def kn4(r, dr, u, z, k, alpha, l, E):\n",
    "    A = get_A(r + dr, k, alpha, l, E)\n",
    "    slope = kn3(r, dr, u, z, k, alpha, l, E)\n",
    "    u = u + (dr/2)*slope[0]\n",
    "    z = z + (dr/2)*slope[1]\n",
    "    x = [u, z]\n",
    "    return np.matmul(A, x)"
   ]
  },
  {
   "cell_type": "code",
   "execution_count": null,
   "id": "19f3a17e-d590-477e-a57e-5e3410c00e87",
   "metadata": {},
   "outputs": [],
   "source": [
    "def runge_kutta_four(k, r_0, dr, alpha, l, E, u_0, z_0, n_iterations):\n",
    "    u = u_0\n",
    "    z = z_0\n",
    "    r = r_0 + 10**-40\n",
    "    u_data = [u]\n",
    "    r_data = [r]\n",
    "    for n in range(0, n_iterations):\n",
    "        y = (kn1(r, dr, u, z, k, alpha, l, E) + 2*kn2(r, dr, u, z, k, alpha, l, E) + 2*kn3(r, dr, u, z, k, alpha, l, E) + kn4(r, dr, u, z, k, alpha, l, E))/6\n",
    "        u = u + y[0]*dr\n",
    "        z = z + y[1]*dr\n",
    "        r = r + dr\n",
    "        u_data.append(u)\n",
    "        r_data.append(r)\n",
    "    return u_data, r_data"
   ]
  },
  {
   "cell_type": "code",
   "execution_count": null,
   "id": "ab3e8c0d-44f7-4fbb-874c-cc21f1a7f97a",
   "metadata": {},
   "outputs": [],
   "source": [
    "u_data, r_data = runge_kutta_four(k, r_0, dr, alpha, l, E, u_0, z_0, n_iterations)\n",
    "\n",
    "plt.plot(r_data, u_data, label=\"Euler's Method\", color=\"#FFA15A\")\n",
    "plt.plot(r_data, [psi_0(r) for r in r_data], label=\"Analytical Solution\", color=\"#636EFA\")\n",
    "\n",
    "plt.legend(loc=\"upper right\")\n",
    "\n",
    "plt.xlabel(\"r\")\n",
    "plt.ylabel(f\"u(r)\")\n",
    "plt.title(f\"Runge Kutta 4 Method for Hydrogen Atom, l={l}\")\n",
    "plt.show()"
   ]
  }
 ],
 "metadata": {
  "kernelspec": {
   "display_name": "Python 3 (ipykernel)",
   "language": "python",
   "name": "python3"
  },
  "language_info": {
   "codemirror_mode": {
    "name": "ipython",
    "version": 3
   },
   "file_extension": ".py",
   "mimetype": "text/x-python",
   "name": "python",
   "nbconvert_exporter": "python",
   "pygments_lexer": "ipython3",
   "version": "3.7.9"
  }
 },
 "nbformat": 4,
 "nbformat_minor": 5
}
